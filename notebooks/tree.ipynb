{
 "cells": [
  {
   "cell_type": "markdown",
   "metadata": {},
   "source": [
    "# Binary Search Trees\n",
    "in this notebook we analyze two data structure:\n",
    "\n",
    "    BinarySearchTree\n",
    "    RedBlackTree"
   ]
  },
  {
   "cell_type": "code",
   "execution_count": null,
   "metadata": {},
   "outputs": [],
   "source": [
    "import os, sys\n",
    "sys.path = [os.path.abspath(\"../\")] + sys.path\n",
    "from tree import *\n"
   ]
  },
  {
   "cell_type": "code",
   "execution_count": null,
   "metadata": {},
   "outputs": [],
   "source": [
    "from utils import (np,gen_random_u_array)\n",
    "\n",
    "times_bst = []\n",
    "r = np.arange(1,1100,100)\n",
    "for i in r:\n",
    "    setup = \"\"\"\n",
    "from tree import (BinarySearchTree)\n",
    "from utils import (np,gen_random_u_array)\n",
    "np.random.seed(31415)\n",
    "data = gen_random_u_array({})\n",
    "bst = BinarySearchTree()\n",
    "gc.enable()\n",
    "    \"\"\".format(i)\n",
    "    times_bst.append(min(timeit.Timer('for d in data: bst.insert(d)', setup=setup).repeat(10, 1)))\n",
    "\n",
    "times_rn = []\n",
    "for i in r:\n",
    "    setup = \"\"\"\n",
    "from tree import (RedBlackTree)\n",
    "from utils import (np,gen_random_u_array)\n",
    "np.random.seed(31415)\n",
    "data = gen_random_u_array({})\n",
    "rn = RedBlackTree()\n",
    "gc.enable()\n",
    "    \"\"\".format(i)\n",
    "    times_rn.append(min(timeit.Timer('for d in data: rn.insert(d)', setup=setup).repeat(10, 1)))\n",
    "                                                                                     \n",
    "plot_data(r, times_bst, \"BinarySearchTree\", \"Insertion\", \"n\", \"time\")\n",
    "plot_data(r, times_rn, \"RedBlackTree\", \"Insertion\", \"n\", \"time\")"
   ]
  },
  {
   "cell_type": "code",
   "execution_count": null,
   "metadata": {},
   "outputs": [
    {
     "name": "stdout",
     "output_type": "stream",
     "text": [
      "11\n",
      "7\n"
     ]
    }
   ],
   "source": [
    "import os, sys\n",
    "sys.path = [os.path.abspath(\"../\")] + sys.path\n",
    "from utils import (\n",
    "    np,\n",
    "    gen_random_u_array,\n",
    "    plot_compare\n",
    ")\n",
    "from tree import (\n",
    "    RedBlackTree,\n",
    "    BinarySearchTree\n",
    ")\n",
    "from exercise_1 import (\n",
    "    best_case_quick_sort,\n",
    "    avg_case_quick_sort\n",
    ")\n",
    "np.random.seed(31415)\n",
    "rbt = RedBlackTree()\n",
    "bst = BinarySearchTree()\n",
    "\n",
    "data = gen_random_u_array()\n",
    "\n",
    "for d in data:\n",
    "    bst.insert(d)\n",
    "    rbt.insert(d)\n",
    "    \n",
    "print(bst.tree_height())\n",
    "print(rbt.tree_height())\n",
    "rbt.postorder()\n",
    "\n",
    "r = range(100,5100,100)\n",
    "times_best = []\n",
    "times_avg = []\n",
    "\n",
    "for i in r:\n",
    "    times_avg.append(avg_case_quick_sort(i))\n",
    "    times_best.append(best_case_quick_sort(i))\n",
    "    \n",
    "plot_compare(r,times_best,times_avg,\"best case quick sort\",\"average case quick sort\",\"Sorting\",\"n\",\"time\")"
   ]
  },
  {
   "cell_type": "code",
   "execution_count": null,
   "metadata": {},
   "outputs": [],
   "source": []
  }
 ],
 "metadata": {
  "kernelspec": {
   "display_name": "Python 3",
   "language": "python",
   "name": "python3"
  },
  "language_info": {
   "codemirror_mode": {
    "name": "ipython",
    "version": 3
   },
   "file_extension": ".py",
   "mimetype": "text/x-python",
   "name": "python",
   "nbconvert_exporter": "python",
   "pygments_lexer": "ipython3",
   "version": "3.7.4"
  }
 },
 "nbformat": 4,
 "nbformat_minor": 2
}
