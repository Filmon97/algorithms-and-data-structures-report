{
 "cells": [
  {
   "cell_type": "markdown",
   "metadata": {},
   "source": [
    "# Sorting Algorithms\n",
    "in this notebook we analyze two algorithms:\n",
    "\n",
    "    insertion_sort\n",
    "    quick_sort"
   ]
  },
  {
   "cell_type": "code",
   "execution_count": 1,
   "metadata": {
    "pycharm": {
     "is_executing": false
    }
   },
   "outputs": [
    {
     "data": {
      "text/plain": [
       "<Figure size 640x480 with 1 Axes>"
      ]
     },
     "metadata": {},
     "output_type": "display_data"
    }
   ],
   "source": [
    "import os, sys\n",
    "sys.path = [os.path.abspath(\"../\")] + sys.path\n",
    "from sort import *\n",
    "from utils import *\n",
    "import matplotlib.pyplot as plt\n",
    "\n",
    "N = 1_000\n",
    "x = np.arange(N)\n",
    "\n",
    "plt.style.use('fivethirtyeight')\n",
    "plt.plot(x,gen_random_u_array(N),label='uniform array')\n",
    "plt.plot(x,gen_random_n_array(N),label='normal array')\n",
    "\n",
    "plt.xlabel('n')\n",
    "plt.ylabel('values')\n",
    "plt.title('random array')\n",
    "plt.legend()\n",
    "plt.show()"
   ]
  },
  {
   "cell_type": "markdown",
   "metadata": {
    "pycharm": {
     "is_executing": false
    }
   },
   "source": [
    "## timeit module\n",
    "\n",
    "A non <strong>default_timer()</strong> approach.\n",
    "\n",
    "### timeit(number=1000000)\n",
    "From the Python documentation: <br>\n",
    "Time number executions of the main statement. This executes the setup statement once, and then returns the time it takes to execute the main statement a number of times, measured in seconds as a float. The argument is the number of times through the loop, defaulting to one million. The main statement, the setup statement and the timer function to be used are passed to the constructor.\n",
    "##### Useful note \n",
    "    Note By default, timeit() temporarily turns off garbage collection during the timing. The advantage of this approach is that it makes independent timings more comparable. The disadvantage is that GC may be an important component of the performance of the function being measured. If so, GC can be re-enabled as the first statement in the setup string. For example:\n",
    "    \n",
    "  <code> timeit.Timer('for i in range(10): oct(i)', 'gc.enable()').timeit() </code>\n",
    "   \n",
    "### repeat(repeat=5, number=1000000)\n",
    "Call <strong>timeit()</strong> a few times.\n",
    "\n",
    "This is a convenience function that calls the <strong>timeit()</strong> repeatedly, returning a list of results. The first argument specifies how many times to call <strong>timeit()</strong>. The second argument specifies the number argument for <strong>timeit()</strong>.\n",
    "##### A more userful note\n",
    "    Note It’s tempting to calculate mean and standard deviation from the result vector and report these. However, this is not very useful. In a typical case, the lowest value gives a lower bound for how fast your machine can run the given code snippet; higher values in the result vector are typically not caused by variability in Python’s speed, but by other processes interfering with your timing accuracy. So the min() of the result is probably the only number you should be interested in. After that, you should look at the entire vector and apply common sense rather than statistics.\n",
    "    \n",
    "from that we can say that the function that we are searching is more or less like this:\n",
    "<br>\n",
    "<code>\n",
    "import timeit\n",
    "setup = '''\n",
    "import random\n",
    "\n",
    "random.seed('algorithm-and-data-structure-reports')\n",
    "s = gen_random_u_array({})\n",
    "'''.format(1_000)\n",
    " min(timeit.Timer('a=list(s) insertion_sort(a)', setup=setup).repeat(7, 100) </code>\n",
    " <br>\n",
    "We create a fresh copy of the array when we repeat the timing.\n",
    "Alternative to the copy syntax:\n",
    "<code>\n",
    "    a = s[:]\n",
    "    a = s.copy()\n",
    "    ...\n",
    "</code>\n",
    "However this is a bad approch, first with this method we are also timing the copy of the array and can resolve this by setting repeat and number parameters to 100 and 1 respectively and eliminate the copy instruction. <br>\n",
    "<code>\n",
    "    min(timeit.Timer('insertion_sort(s)', setup=setup).repeat(100, 1)\n",
    "</code>\n",
    "Second we need to enable the garbage collector so that we can get faster times.\n",
    "We do that in the setup string as is written in the documentation:\n",
    "\n",
    "    Note: By default, timeit() temporarily turns off garbage collection during the timing. The advantage of this approach is that it makes independent timings more comparable. The disadvantage is that GC may be an important component of the performance of the function being measured. If so, GC can be re-enabled as the first statement in the setup string.\n"
   ]
  },
  {
   "cell_type": "code",
   "execution_count": 9,
   "metadata": {},
   "outputs": [
    {
     "data": {
      "image/png": "[encoded data removed]",
      "text/plain": [
       "<Figure size 432x288 with 1 Axes>"
      ]
     },
     "metadata": {},
     "output_type": "display_data"
    }
   ],
   "source": [
    "import timeit\n",
    "import matplotlib.pyplot as plt\n",
    "\n",
    "times = []\n",
    "r = np.arange(1,1100,100)\n",
    "for i in r:\n",
    "    setup = \"\"\"\n",
    "from sort import (insertion_sort)\n",
    "from utils import (np,gen_random_u_array)\n",
    "np.random.seed(31415)\n",
    "s = gen_random_u_array({})\n",
    "gc.enable()\n",
    "    \"\"\".format(i)\n",
    "    times.append(min(timeit.Timer('insertion_sort(s)', setup=setup).repeat(10, 1)))\n",
    "\n",
    "plt.style.use('fivethirtyeight')\n",
    "plt.plot(r, times, label=\"insertion_sort\")\n",
    "plt.xlabel('n')\n",
    "plt.ylabel('time')\n",
    "plt.legend()\n",
    "plt.show()"
   ]
  },
  {
   "cell_type": "markdown",
   "metadata": {},
   "source": [
    "The best case for Quicksort using last element as pivot is the post-order traversal of the balanced binary search tree. For example:\n",
    "\n",
    "         5\n",
    "       /   \\\n",
    "      3      7\n",
    "     / \\    / \\\n",
    "    1   4  6   8\n",
    "The post-order traversal of this binary tree is\n",
    "\n",
    "1 4 3 6 8 7 5"
   ]
  },
  {
   "cell_type": "code",
   "execution_count": null,
   "metadata": {},
   "outputs": [],
   "source": []
  }
 ],
 "metadata": {
  "kernelspec": {
   "display_name": "Python 3",
   "language": "python",
   "name": "python3"
  },
  "language_info": {
   "codemirror_mode": {
    "name": "ipython",
    "version": 3
   },
   "file_extension": ".py",
   "mimetype": "text/x-python",
   "name": "python",
   "nbconvert_exporter": "python",
   "pygments_lexer": "ipython3",
   "version": "3.7.4"
  },
  "pycharm": {
   "stem_cell": {
    "cell_type": "raw",
    "metadata": {
     "collapsed": false
    },
    "source": []
   }
  }
 },
 "nbformat": 4,
 "nbformat_minor": 2
}
